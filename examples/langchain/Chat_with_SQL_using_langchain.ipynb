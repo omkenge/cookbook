{
  "cells": [],
  "metadata": {
    "colab": {
      "name": "Chat_with_SQL_using_langchain.ipynb",
      "toc_visible": true,
      "provenance": []
    },
    "kernelspec": {
      "display_name": "Python 3",
      "name": "python3"
    }
  },
  "nbformat": 4,
  "nbformat_minor": 0
}